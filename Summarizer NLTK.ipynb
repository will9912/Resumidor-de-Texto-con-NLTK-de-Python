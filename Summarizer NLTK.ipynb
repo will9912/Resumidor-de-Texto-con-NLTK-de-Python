{
 "cells": [
  {
   "cell_type": "markdown",
   "metadata": {},
   "source": [
    "# Summarizer with Python and NLTK (Resumidor con Python y NLTK)"
   ]
  },
  {
   "cell_type": "code",
   "execution_count": 79,
   "metadata": {},
   "outputs": [],
   "source": [
    "# Importa los metodos a trabajar desde NLTK:\n",
    "\n",
    "# stopwords = palabras reservadas.\n",
    "from nltk.corpus import stopwords\n",
    "\n",
    "# word_tokenize = valorizador de palabras.\n",
    "# sent_tokenize = valorizador de oraciones.\n",
    "from nltk.tokenize import word_tokenize, sent_tokenize"
   ]
  },
  {
   "cell_type": "code",
   "execution_count": 80,
   "metadata": {},
   "outputs": [
    {
     "name": "stdout",
     "output_type": "stream",
     "text": [
      "[nltk_data] Downloading package stopwords to C:\\Users\\Will\n",
      "[nltk_data]     Royero\\AppData\\Roaming\\nltk_data...\n",
      "[nltk_data]   Package stopwords is already up-to-date!\n",
      "[nltk_data] Downloading package punkt to C:\\Users\\Will\n",
      "[nltk_data]     Royero\\AppData\\Roaming\\nltk_data...\n",
      "[nltk_data]   Package punkt is already up-to-date!\n"
     ]
    },
    {
     "data": {
      "text/plain": [
       "True"
      ]
     },
     "execution_count": 80,
     "metadata": {},
     "output_type": "execute_result"
    }
   ],
   "source": [
    "# Descarga de metodos debido a que stopwords y tokenize\n",
    "#   no se podían usar sin ellos.\n",
    "import nltk\n",
    "nltk.download('stopwords')\n",
    "nltk.download('punkt')"
   ]
  },
  {
   "cell_type": "code",
   "execution_count": 81,
   "metadata": {},
   "outputs": [],
   "source": [
    "# Se crean 2 arreglos y 1 variable:\n",
    "\n",
    "# arreglo 1) - SW - configura el método de entrada o idioma en el que se \n",
    "                    # van a trabajar las palabras en el metodo words de stopwords, en este caso, Español.\n",
    "SW = set(stopwords.words(\"spanish\"))\n",
    "\n",
    "# text para definir el texto a resumir.\n",
    "text = \"\"\"El secreto de Edgar Allan Poe es la previa organización metódica de sus elementos a fin de producir efectos. Haciendo una lectura tamizada de la obra, se develan aquellos elementos patrones que, casualmente, emplea para su misión de expresar una porción del terreno de la melancolía y el horror diabólico. Poe escribe sus relatos teniendo en mente un simple efecto propenso a estallar en terror o pasión durante el momento final de la historia. Sostiene que en la totalidad de la composición no debe haber palabras que tiendan, directa o indirectamente, a deducir el efecto que el autor se ha propuesto. Lo asombroso es que un amante de la casualidad haya preparado sistemáticamente los elementos que se deben integrar en el relato, como si hubiese sido dotado del don para controlar el destino: azares de la expresión. Así es como sorprende, manipula el campo de lo inesperado, sobresalta al lector y en la apuesta final saca el as de la manga y gana la jugada astutamente. Los detalles funcionan como sostenes del relato hasta que la última oración narra el efecto preciso: el más planeado por el autor y el menos pensado para el lector. En Edgar Poe no es la inventiva lo que deslumbra sino la capacidad de incertidumbre de las situaciones, la aproximación a lo temido por desconocido, a la muerte. Maestro de la desesperación que parece hallar en la muerte el corte al sufrimiento de sus personajes, de su propio dolor. Tomando las palabras del poeta y dramaturgo David H. Lawrence: « Las mejores producciones de Poe no son relatos. Son algo más. Son descripciones del alma humana, retorciéndose en las convulsiones de la ruptura»\"\"\"\n",
    "\n",
    "# arreglo 2) - words - almacena el texto en el método word_tokenize para \n",
    "                        # previamente darle valor.\n",
    "words = word_tokenize(text)"
   ]
  },
  {
   "cell_type": "code",
   "execution_count": 82,
   "metadata": {},
   "outputs": [],
   "source": [
    "# Se crea un diccionario para crear una tabla de frecuencias de las palabras.\n",
    "freqTable = dict()\n",
    "\n",
    "# Con un for se recorre el texto y se almacena en la tabla.\n",
    "for word in words:\n",
    "    word = word.lower() # setea las palabras en minúscula y las almacena en word.\n",
    "    if word in SW: \n",
    "        continue # Si la palabra se encuentra en SW, continua con el ciclo.\n",
    "    if word in freqTable: # Si la palabra ya se encuentra en la tabla frecuencia,\n",
    "        freqTable[word] += 1 # Suma 1 a la posición donde se encuentra la palabra.\n",
    "    else:\n",
    "        freqTable[word] = 1 # Sino, la palabra en la TF va a ser igual a 1."
   ]
  },
  {
   "cell_type": "code",
   "execution_count": 90,
   "metadata": {},
   "outputs": [
    {
     "data": {
      "text/plain": [
       "{',': 12,\n",
       " '.': 11,\n",
       " ':': 3,\n",
       " 'allan': 1,\n",
       " 'alma': 1,\n",
       " 'amante': 1,\n",
       " 'aproximación': 1,\n",
       " 'apuesta': 1,\n",
       " 'aquellos': 1,\n",
       " 'as': 1,\n",
       " 'asombroso': 1,\n",
       " 'astutamente': 1,\n",
       " 'así': 1,\n",
       " 'autor': 2,\n",
       " 'azares': 1,\n",
       " 'campo': 1,\n",
       " 'capacidad': 1,\n",
       " 'casualidad': 1,\n",
       " 'casualmente': 1,\n",
       " 'composición': 1,\n",
       " 'controlar': 1,\n",
       " 'convulsiones': 1,\n",
       " 'corte': 1,\n",
       " 'david': 1,\n",
       " 'debe': 1,\n",
       " 'deben': 1,\n",
       " 'deducir': 1,\n",
       " 'desconocido': 1,\n",
       " 'descripciones': 1,\n",
       " 'desesperación': 1,\n",
       " 'deslumbra': 1,\n",
       " 'destino': 1,\n",
       " 'detalles': 1,\n",
       " 'develan': 1,\n",
       " 'diabólico': 1,\n",
       " 'directa': 1,\n",
       " 'dolor': 1,\n",
       " 'don': 1,\n",
       " 'dotado': 1,\n",
       " 'dramaturgo': 1,\n",
       " 'edgar': 2,\n",
       " 'efecto': 3,\n",
       " 'efectos': 1,\n",
       " 'elementos': 3,\n",
       " 'emplea': 1,\n",
       " 'escribe': 1,\n",
       " 'estallar': 1,\n",
       " 'expresar': 1,\n",
       " 'expresión': 1,\n",
       " 'fin': 1,\n",
       " 'final': 2,\n",
       " 'funcionan': 1,\n",
       " 'gana': 1,\n",
       " 'h.': 1,\n",
       " 'haber': 1,\n",
       " 'haciendo': 1,\n",
       " 'hallar': 1,\n",
       " 'historia': 1,\n",
       " 'horror': 1,\n",
       " 'humana': 1,\n",
       " 'incertidumbre': 1,\n",
       " 'indirectamente': 1,\n",
       " 'inesperado': 1,\n",
       " 'integrar': 1,\n",
       " 'inventiva': 1,\n",
       " 'jugada': 1,\n",
       " 'lawrence': 1,\n",
       " 'lector': 2,\n",
       " 'lectura': 1,\n",
       " 'maestro': 1,\n",
       " 'manga': 1,\n",
       " 'manipula': 1,\n",
       " 'mejores': 1,\n",
       " 'melancolía': 1,\n",
       " 'menos': 1,\n",
       " 'mente': 1,\n",
       " 'metódica': 1,\n",
       " 'misión': 1,\n",
       " 'momento': 1,\n",
       " 'muerte': 2,\n",
       " 'narra': 1,\n",
       " 'obra': 1,\n",
       " 'oración': 1,\n",
       " 'organización': 1,\n",
       " 'palabras': 2,\n",
       " 'parece': 1,\n",
       " 'pasión': 1,\n",
       " 'patrones': 1,\n",
       " 'pensado': 1,\n",
       " 'personajes': 1,\n",
       " 'planeado': 1,\n",
       " 'poe': 4,\n",
       " 'poeta': 1,\n",
       " 'porción': 1,\n",
       " 'preciso': 1,\n",
       " 'preparado': 1,\n",
       " 'previa': 1,\n",
       " 'producciones': 1,\n",
       " 'producir': 1,\n",
       " 'propenso': 1,\n",
       " 'propio': 1,\n",
       " 'propuesto': 1,\n",
       " 'relato': 2,\n",
       " 'relatos': 2,\n",
       " 'retorciéndose': 1,\n",
       " 'ruptura': 1,\n",
       " 'saca': 1,\n",
       " 'secreto': 1,\n",
       " 'si': 1,\n",
       " 'sido': 1,\n",
       " 'simple': 1,\n",
       " 'sino': 1,\n",
       " 'sistemáticamente': 1,\n",
       " 'situaciones': 1,\n",
       " 'sobresalta': 1,\n",
       " 'sorprende': 1,\n",
       " 'sostenes': 1,\n",
       " 'sostiene': 1,\n",
       " 'sufrimiento': 1,\n",
       " 'tamizada': 1,\n",
       " 'temido': 1,\n",
       " 'terreno': 1,\n",
       " 'terror': 1,\n",
       " 'tiendan': 1,\n",
       " 'tomando': 1,\n",
       " 'totalidad': 1,\n",
       " '«': 1,\n",
       " '»': 1,\n",
       " 'última': 1}"
      ]
     },
     "execution_count": 90,
     "metadata": {},
     "output_type": "execute_result"
    }
   ],
   "source": [
    "#Muestra la tabla de frecuencias de cada palabra.\n",
    "freqTable"
   ]
  },
  {
   "cell_type": "code",
   "execution_count": 84,
   "metadata": {},
   "outputs": [],
   "source": [
    "# Crea una variable y un diccionario.\n",
    "\n",
    "# Variable sentences para almacenar las oraciones a valorizar del texto.\n",
    "sentences = sent_tokenize(text)\n",
    "\n",
    "# Diccionario sentenceValue para almacenar los valores de las oraciones.\n",
    "sentenceValue = dict()"
   ]
  },
  {
   "cell_type": "code",
   "execution_count": 85,
   "metadata": {},
   "outputs": [],
   "source": [
    "#Se crea un ciclo for para recorrer las oraciones que se encuentran en el texto.\n",
    "for sentence in sentences:\n",
    "    # Se crea un segundo for para recorrer los items que se encuentran el la TF.\n",
    "    for word, freq in freqTable.items():\n",
    "        if word in sentence.lower(): # Si la palabra se encuentra en las oraciones (en minuscula)\n",
    "            if sentence in sentenceValue: # Y si la oración está en el diccionario de las oraciones a valorizar.\n",
    "                sentenceValue[sentence] += freq # Entonces sume 1 al número de frecuencia en la posición de la oración del sV.\n",
    "            else:\n",
    "                sentenceValue[sentence] = freq # Sino, que el valor de la posición de la oración sea igual a la frecuencia."
   ]
  },
  {
   "cell_type": "code",
   "execution_count": 86,
   "metadata": {},
   "outputs": [
    {
     "data": {
      "text/plain": [
       "{'Así es como sorprende, manipula el campo de lo inesperado, sobresalta al lector y en la apuesta final saca el as de la manga y gana la jugada astutamente.': 42,\n",
       " 'El secreto de Edgar Allan Poe es la previa organización metódica de sus elementos a fin de producir efectos.': 31,\n",
       " 'En Edgar Poe no es la inventiva lo que deslumbra sino la capacidad de incertidumbre de las situaciones, la aproximación a lo temido por desconocido, a la muerte.': 42,\n",
       " 'Haciendo una lectura tamizada de la obra, se develan aquellos elementos patrones que, casualmente, emplea para su misión de expresar una porción del terreno de la melancolía y el horror diabólico.': 45,\n",
       " 'Lo asombroso es que un amante de la casualidad haya preparado sistemáticamente los elementos que se deben integrar en el relato, como si hubiese sido dotado del don para controlar el destino: azares de la expresión.': 49,\n",
       " 'Los detalles funcionan como sostenes del relato hasta que la última oración narra el efecto preciso: el más planeado por el autor y el menos pensado para el lector.': 34,\n",
       " 'Maestro de la desesperación que parece hallar en la muerte el corte al sufrimiento de sus personajes, de su propio dolor.': 34,\n",
       " 'Poe escribe sus relatos teniendo en mente un simple efecto propenso a estallar en terror o pasión durante el momento final de la historia.': 36,\n",
       " 'Son algo más.': 11,\n",
       " 'Son descripciones del alma humana, retorciéndose en las convulsiones de la ruptura»': 21,\n",
       " 'Sostiene que en la totalidad de la composición no debe haber palabras que tiendan, directa o indirectamente, a deducir el efecto que el autor se ha propuesto.': 43,\n",
       " 'Tomando las palabras del poeta y dramaturgo David H. Lawrence: « Las mejores producciones de Poe no son relatos.': 34}"
      ]
     },
     "execution_count": 86,
     "metadata": {},
     "output_type": "execute_result"
    }
   ],
   "source": [
    "#Muestra las oraciones ya valorizadas con su respectivo puntaje.\n",
    "sentenceValue"
   ]
  },
  {
   "cell_type": "code",
   "execution_count": 87,
   "metadata": {},
   "outputs": [],
   "source": [
    "# Se crea una variable donde se almacena la suma de los valores.\n",
    "sumValues = 0\n",
    "\n",
    "# Se crea un ciclo for para evaluar la oración dentro del Diccionario de las oraciones valorizadas.\n",
    "for sentence in sentenceValue:\n",
    "    sumValues += sentenceValue[sentence] # Se suma 1 al valor de la Oración en su respectiva posición\n",
    "    \n",
    "# Valor promedio de una oración desde un texto original\n",
    "average = int(sumValues/ len(sentenceValue)) # Divide la suma de valores en la total de oraciones valorizadas."
   ]
  },
  {
   "cell_type": "code",
   "execution_count": 88,
   "metadata": {},
   "outputs": [],
   "source": [
    "# Se crea una variable para almacenar el resumen a imprimir.\n",
    "summary = ''\n",
    "\n",
    "# Se crea un for para recorrer las oraciones almacenadas\n",
    "for sentence in sentences:\n",
    "    \n",
    "    #Donde si, la oración está las oraciones Valorizadas y la posición de la oración es mayor que 1.2 veces el promedio:\n",
    "    if (sentence in sentenceValue) and (sentenceValue[sentence] > (1.2 * average)):\n",
    "        \n",
    "        # El resumen va a agregar un espacio más la oración que aprobó la condición.\n",
    "        summary += \" \" + sentence "
   ]
  },
  {
   "cell_type": "code",
   "execution_count": 89,
   "metadata": {},
   "outputs": [
    {
     "name": "stdout",
     "output_type": "stream",
     "text": [
      " Haciendo una lectura tamizada de la obra, se develan aquellos elementos patrones que, casualmente, emplea para su misión de expresar una porción del terreno de la melancolía y el horror diabólico. Sostiene que en la totalidad de la composición no debe haber palabras que tiendan, directa o indirectamente, a deducir el efecto que el autor se ha propuesto. Lo asombroso es que un amante de la casualidad haya preparado sistemáticamente los elementos que se deben integrar en el relato, como si hubiese sido dotado del don para controlar el destino: azares de la expresión.\n"
     ]
    }
   ],
   "source": [
    "# Se imprime el resumen.\n",
    "print(summary)"
   ]
  },
  {
   "cell_type": "code",
   "execution_count": null,
   "metadata": {},
   "outputs": [],
   "source": []
  }
 ],
 "metadata": {
  "kernelspec": {
   "display_name": "Python 3",
   "language": "python",
   "name": "python3"
  },
  "language_info": {
   "codemirror_mode": {
    "name": "ipython",
    "version": 3
   },
   "file_extension": ".py",
   "mimetype": "text/x-python",
   "name": "python",
   "nbconvert_exporter": "python",
   "pygments_lexer": "ipython3",
   "version": "3.6.6"
  }
 },
 "nbformat": 4,
 "nbformat_minor": 2
}
